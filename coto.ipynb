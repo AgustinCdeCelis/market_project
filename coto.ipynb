{
 "cells": [
  {
   "cell_type": "code",
   "execution_count": 11,
   "metadata": {},
   "outputs": [],
   "source": [
    "import selenium\n",
    "from selenium import webdriver\n",
    "from selenium.webdriver.chrome.service import Service\n",
    "from selenium.webdriver.common.by import By\n",
    "from selenium.webdriver import ActionChains\n",
    "from selenium.webdriver.common.keys import Keys\n",
    "import time\n",
    "from selenium.webdriver.support import expected_conditions as EC\n",
    "from selenium.webdriver.support.wait import WebDriverWait\n",
    "from selenium.webdriver.support.ui import Select"
   ]
  },
  {
   "cell_type": "code",
   "execution_count": 12,
   "metadata": {},
   "outputs": [
    {
     "name": "stdout",
     "output_type": "stream",
     "text": [
      "Coto Digital: Tu super a un click\n"
     ]
    }
   ],
   "source": [
    "PATH= 'C:\\Program Files (x86)\\chromedriver.exe'\n",
    "link='https://www.cotodigital3.com.ar/sitios/cdigi/'\n",
    "\n",
    "s= Service(PATH)\n",
    "driver= webdriver.Chrome(service=s)\n",
    "\n",
    "driver.get(link)\n",
    "\n",
    "driver.implicitly_wait(5)\n",
    "print(driver.title)"
   ]
  },
  {
   "cell_type": "code",
   "execution_count": 13,
   "metadata": {},
   "outputs": [],
   "source": [
    "ofertas = driver.find_element(By.CSS_SELECTOR,'li.atg_store_dropDownParent')\n",
    "submenu =driver.find_element(By.CSS_SELECTOR,'ul.sub_category')\n",
    "\n",
    "actions=ActionChains(driver)\n",
    "actions.move_to_element(ofertas)\n",
    "actions.click(submenu).perform()\n",
    "time.sleep(2)\n",
    "\n",
    "#driver.execute_script(\"window.scrollTo(0,document.body.scrollHeight)\") #to scroll until end\n",
    "#driver.execute_script(\"window.scrollTo(0,document.body.scrollHeight - 50)\")\n",
    "\n",
    "element = driver.find_element(By.CSS_SELECTOR,'div.atg_store_pagination')\n",
    "actions.move_to_element(element).perform()\n",
    "#driver.execute_script(\"arguments[0].scrollIntoView();\", element)\n",
    "time.sleep(6)\n",
    "\n",
    "iterable=\n",
    "for i in range(2,3,4):\n",
    "    actions.click(By.CSS_SELECTOR,f'a.Ir a pagina 3')\n",
    "\n",
    "driver.quit()"
   ]
  },
  {
   "cell_type": "markdown",
   "metadata": {},
   "source": [
    "menu =driver.find_elements(By.CSS_SELECTOR,'li.atg_store_dropDownParent')\n",
    "\n",
    "print(menu)"
   ]
  },
  {
   "cell_type": "markdown",
   "metadata": {},
   "source": [
    "menu =driver.find_elements(By.CSS_SELECTOR,'li.atg_store_dropDownParent')\n",
    "\n",
    "print(len(menu))\n",
    "\n",
    "sections=[]\n",
    "#iterate the menu's values\n",
    "for value in menu:\n",
    "    #select the titles\n",
    "    valor=value.text\n",
    "    #create a list of the values\n",
    "    sections.append(valor)\n",
    "    print(valor)\n",
    "\n",
    "    driver.find_element(By.CSS_SELECTOR,'li.atg_store_dropDownParent')\n",
    "\n",
    "    #action moves\n",
    "    actions=ActionChains(driver)\n",
    "    actions.move_to_element(value).perform()\n",
    "    time.sleep(2)\n",
    "driver.quit()"
   ]
  }
 ],
 "metadata": {
  "kernelspec": {
   "display_name": ".venv",
   "language": "python",
   "name": "python3"
  },
  "language_info": {
   "codemirror_mode": {
    "name": "ipython",
    "version": 3
   },
   "file_extension": ".py",
   "mimetype": "text/x-python",
   "name": "python",
   "nbconvert_exporter": "python",
   "pygments_lexer": "ipython3",
   "version": "3.10.4"
  },
  "orig_nbformat": 4,
  "vscode": {
   "interpreter": {
    "hash": "7a8c4e29dad0562425958f00cb9b370cf03168ea2f29a45705432af100ab9e0a"
   }
  }
 },
 "nbformat": 4,
 "nbformat_minor": 2
}
