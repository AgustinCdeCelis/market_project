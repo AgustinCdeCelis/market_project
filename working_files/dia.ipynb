{
 "cells": [
  {
   "cell_type": "code",
   "execution_count": 1,
   "metadata": {},
   "outputs": [],
   "source": [
    "import selenium\n",
    "from selenium import webdriver\n",
    "from selenium.webdriver.chrome.service import Service\n",
    "from selenium.webdriver.common.by import By\n",
    "from selenium.webdriver import ActionChains\n",
    "from selenium.webdriver.support.ui import WebDriverWait\n",
    "from selenium.webdriver.support import expected_conditions as EC\n",
    "from selenium.common.exceptions import NoSuchElementException ,StaleElementReferenceException\n",
    "from selenium.webdriver.support import expected_conditions\n",
    "#time\n",
    "import time\n",
    "from selenium.webdriver.chrome.options import Options\n",
    "import requests\n",
    "from bs4 import BeautifulSoup\n",
    "import pandas as pd\n",
    "from requests_html import HTMLSession"
   ]
  },
  {
   "cell_type": "code",
   "execution_count": 29,
   "metadata": {},
   "outputs": [
    {
     "data": {
      "text/plain": [
       "0"
      ]
     },
     "execution_count": 29,
     "metadata": {},
     "output_type": "execute_result"
    }
   ],
   "source": [
    "url = 'https://diaonline.supermercadosdia.com.ar/'\n",
    "\n",
    "s =HTMLSession()\n",
    "\n",
    "r=s.get(url)\n",
    "\n",
    "soup= BeautifulSoup(r.text,'html.parser')\n",
    "\n",
    "divs = soup.find_all('li',class_='diaio-store-3-x-menuItem diaio-store-3-x-menuItemActive')\n",
    "\n",
    "len(divs)\n",
    "\n",
    "\n"
   ]
  },
  {
   "cell_type": "code",
   "execution_count": 30,
   "metadata": {},
   "outputs": [
    {
     "ename": "TimeoutException",
     "evalue": "Message: \n",
     "output_type": "error",
     "traceback": [
      "\u001b[1;31m---------------------------------------------------------------------------\u001b[0m",
      "\u001b[1;31mTimeoutException\u001b[0m                          Traceback (most recent call last)",
      "Cell \u001b[1;32mIn[30], line 19\u001b[0m\n\u001b[0;32m     17\u001b[0m driver\u001b[39m.\u001b[39mimplicitly_wait(\u001b[39m10\u001b[39m)\n\u001b[0;32m     18\u001b[0m \u001b[39m#button = driver.find_element(By.CSS_SELECTOR,'button.diaio-store-3-x-triggerContainer.pointer')\u001b[39;00m\n\u001b[1;32m---> 19\u001b[0m button \u001b[39m=\u001b[39m WebDriverWait(driver, \u001b[39m20\u001b[39;49m)\u001b[39m.\u001b[39;49muntil(EC\u001b[39m.\u001b[39;49melement_to_be_clickable((By\u001b[39m.\u001b[39;49mCSS_SELECTOR, \u001b[39m'\u001b[39;49m\u001b[39m.diaio-store-3-x-triggerContainer.pointer\u001b[39;49m\u001b[39m'\u001b[39;49m)))\n\u001b[0;32m     20\u001b[0m button\u001b[39m.\u001b[39mclick()\n",
      "File \u001b[1;32mc:\\Users\\LENOVO\\Desktop\\programacion\\mercado_project\\.venv\\lib\\site-packages\\selenium\\webdriver\\support\\wait.py:95\u001b[0m, in \u001b[0;36mWebDriverWait.until\u001b[1;34m(self, method, message)\u001b[0m\n\u001b[0;32m     93\u001b[0m     \u001b[39mif\u001b[39;00m time\u001b[39m.\u001b[39mmonotonic() \u001b[39m>\u001b[39m end_time:\n\u001b[0;32m     94\u001b[0m         \u001b[39mbreak\u001b[39;00m\n\u001b[1;32m---> 95\u001b[0m \u001b[39mraise\u001b[39;00m TimeoutException(message, screen, stacktrace)\n",
      "\u001b[1;31mTimeoutException\u001b[0m: Message: \n"
     ]
    }
   ],
   "source": [
    "PATH= 'C:\\Program Files (x86)\\chromedriver.exe'\n",
    "\n",
    "link = 'https://diaonline.supermercadosdia.com.ar/'\n",
    "\n",
    "s= Service(PATH)\n",
    "\n",
    "driver = webdriver.Chrome(service=s)\n",
    "\n",
    "driver.set_window_size(1366,768)\n",
    "\n",
    "driver.get(link)\n",
    "\n",
    "time.sleep(30)\n",
    "\n",
    "\n",
    "bar_menu=driver.find_element(By.CSS_SELECTOR,'.vtex-flex-layout-0-x-flexRow.vtex-flex-layout-0-x-flexRow--header-desktop-secondary')\n",
    "driver.implicitly_wait(10)\n",
    "#button = driver.find_element(By.CSS_SELECTOR,'button.diaio-store-3-x-triggerContainer.pointer')\n",
    "button = WebDriverWait(driver, 20).until(EC.element_to_be_clickable((By.CSS_SELECTOR, '.diaio-store-3-x-triggerContainer.pointer')))\n",
    "button.click()\n",
    "\n"
   ]
  }
 ],
 "metadata": {
  "kernelspec": {
   "display_name": ".venv",
   "language": "python",
   "name": "python3"
  },
  "language_info": {
   "codemirror_mode": {
    "name": "ipython",
    "version": 3
   },
   "file_extension": ".py",
   "mimetype": "text/x-python",
   "name": "python",
   "nbconvert_exporter": "python",
   "pygments_lexer": "ipython3",
   "version": "3.10.4"
  },
  "orig_nbformat": 4
 },
 "nbformat": 4,
 "nbformat_minor": 2
}
