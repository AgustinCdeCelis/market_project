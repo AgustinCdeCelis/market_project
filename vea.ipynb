{
 "cells": [
  {
   "cell_type": "code",
   "execution_count": 1,
   "metadata": {},
   "outputs": [],
   "source": [
    "import selenium\n",
    "from selenium import webdriver\n",
    "from selenium.webdriver.chrome.service import Service\n",
    "from selenium.webdriver.common.by import By\n",
    "from selenium.webdriver import ActionChains\n",
    "from selenium.webdriver.support.ui import WebDriverWait\n",
    "from selenium.webdriver.support import expected_conditions as EC\n",
    "from selenium.common.exceptions import NoSuchElementException ,StaleElementReferenceException\n",
    "from selenium.webdriver.support import expected_conditions\n",
    "#time\n",
    "import time\n",
    "from selenium.webdriver.chrome.options import Options\n",
    "import re\n",
    "from bs4 import BeautifulSoup\n",
    "import pandas as pd"
   ]
  },
  {
   "cell_type": "code",
   "execution_count": 108,
   "metadata": {},
   "outputs": [],
   "source": [
    "\n",
    "#This funcs gives the section_urls\n",
    "\n",
    "def get_urls():\n",
    "    PATH = 'C:\\Program Files (x86)\\chromedriver.exe'\n",
    "\n",
    "    link = 'https://www.vea.com.ar/'\n",
    "\n",
    "    s= Service(PATH)\n",
    "\n",
    "    driver=webdriver.Chrome(service=s)\n",
    "\n",
    "    driver.maximize_window()\n",
    "\n",
    "    driver.get(link)\n",
    "    time.sleep(15)\n",
    "#cancel button\n",
    "    driver.find_element(By.ID,'onesignal-slidedown-cancel-button').click()\n",
    "\n",
    "    time.sleep(6)\n",
    "    driver.find_element(By.CLASS_NAME,'pr9.items-stretch.vtex-flex-layout-0-x-stretchChildrenWidth').click()\n",
    "\n",
    "\n",
    "    time.sleep(5)\n",
    "    iframe=driver.find_element(By.CLASS_NAME,'vtex-menu-2-x-submenu--department-menu')\n",
    "\n",
    "    categories = driver.find_elements(By.CSS_SELECTOR,'li.vtex-menu-2-x-menuItem.vtex-menu-2-x-menuItem--menu-item-secondary')\n",
    "\n",
    "    action=ActionChains(driver)\n",
    "\n",
    "\n",
    "    links=[]\n",
    "    for i in range(1,len(categories)-1):\n",
    "        categories = driver.find_elements(By.CSS_SELECTOR,'li.vtex-menu-2-x-menuItem.vtex-menu-2-x-menuItem--menu-item-secondary')\n",
    "        action.move_to_element(categories[i]).click().perform()\n",
    "        url= driver.current_url\n",
    "        links.append(url)\n",
    "        time.sleep(5)\n",
    "        driver.implicitly_wait(3)\n",
    "        driver.find_element(By.CLASS_NAME,'pr9.items-stretch.vtex-flex-layout-0-x-stretchChildrenWidth').click()\n",
    "\n",
    "    return links\n",
    "    \n",
    "\n",
    "    \n",
    "\n",
    "    \n",
    "    \n",
    "\n"
   ]
  },
  {
   "cell_type": "code",
   "execution_count": 109,
   "metadata": {},
   "outputs": [],
   "source": [
    "section_links= get_urls()"
   ]
  },
  {
   "cell_type": "code",
   "execution_count": 110,
   "metadata": {},
   "outputs": [
    {
     "data": {
      "text/plain": [
       "['https://www.vea.com.ar/electro',\n",
       " 'https://www.vea.com.ar/tiempo-libre',\n",
       " 'https://www.vea.com.ar/almacen',\n",
       " 'https://www.vea.com.ar/bebidas',\n",
       " 'https://www.vea.com.ar/carnes',\n",
       " 'https://www.vea.com.ar/frutas-y-verduras',\n",
       " 'https://www.vea.com.ar/lacteos',\n",
       " 'https://www.vea.com.ar/perfumeria',\n",
       " 'https://www.vea.com.ar/bebes-y-ninos',\n",
       " 'https://www.vea.com.ar/limpieza',\n",
       " 'https://www.vea.com.ar/quesos-y-fiambres',\n",
       " 'https://www.vea.com.ar/congelados',\n",
       " 'https://www.vea.com.ar/panaderia-y-reposteria',\n",
       " 'https://www.vea.com.ar/comidas-preparadas',\n",
       " 'https://www.vea.com.ar/mascotas']"
      ]
     },
     "execution_count": 110,
     "metadata": {},
     "output_type": "execute_result"
    }
   ],
   "source": [
    "section_links"
   ]
  },
  {
   "cell_type": "code",
   "execution_count": 111,
   "metadata": {},
   "outputs": [],
   "source": [
    "\n",
    "#this funcs gives the func to analyze\n",
    "\n",
    "def urls_analyze(link):\n",
    "\n",
    "    links=link\n",
    "\n",
    "    PATH = 'C:\\Program Files (x86)\\chromedriver.exe'\n",
    "\n",
    "\n",
    "\n",
    "    s= Service(PATH)\n",
    "\n",
    "    driver=webdriver.Chrome(service=s)\n",
    "\n",
    "    driver.maximize_window()\n",
    "\n",
    "    driver.get(links)\n",
    "    time.sleep(15)\n",
    "\n",
    "\n",
    "#cancel button\n",
    "    driver.find_element(By.ID,'onesignal-slidedown-cancel-button').click()\n",
    "    time.sleep(3)\n",
    "    driver.find_element(By.CSS_SELECTOR,'div.categoryList-box')\n",
    "    driver.implicitly_wait(2)\n",
    "    driver.find_element(By.CSS_SELECTOR,'a.categoryList__viewAll').click()\n",
    "\n",
    "    return driver.current_url"
   ]
  },
  {
   "cell_type": "code",
   "execution_count": 112,
   "metadata": {},
   "outputs": [],
   "source": [
    "getting_urls=[urls_analyze(i) for i in section_links]\n",
    "    "
   ]
  },
  {
   "cell_type": "code",
   "execution_count": 113,
   "metadata": {},
   "outputs": [
    {
     "data": {
      "text/plain": [
       "['https://www.vea.com.ar/electro?map=category-1',\n",
       " 'https://www.vea.com.ar/tiempo-libre?map=category-1',\n",
       " 'https://www.vea.com.ar/almacen?map=category-1',\n",
       " 'https://www.vea.com.ar/bebidas?map=category-1',\n",
       " 'https://www.vea.com.ar/carnes?map=category-1',\n",
       " 'https://www.vea.com.ar/frutas-y-verduras?map=category-1',\n",
       " 'https://www.vea.com.ar/lacteos?map=category-1',\n",
       " 'https://www.vea.com.ar/perfumeria?map=category-1',\n",
       " 'https://www.vea.com.ar/bebes-y-ninos?map=category-1',\n",
       " 'https://www.vea.com.ar/limpieza?map=category-1',\n",
       " 'https://www.vea.com.ar/quesos-y-fiambres?map=category-1',\n",
       " 'https://www.vea.com.ar/congelados?map=category-1',\n",
       " 'https://www.vea.com.ar/panaderia-y-reposteria?map=category-1',\n",
       " 'https://www.vea.com.ar/comidas-preparadas?map=category-1',\n",
       " 'https://www.vea.com.ar/mascotas?map=category-1']"
      ]
     },
     "execution_count": 113,
     "metadata": {},
     "output_type": "execute_result"
    }
   ],
   "source": [
    "getting_urls"
   ]
  },
  {
   "cell_type": "code",
   "execution_count": 60,
   "metadata": {},
   "outputs": [],
   "source": [
    "\n",
    "#this func gives all the pages\n",
    "def full_prod(link):\n",
    "\n",
    "    PATH = 'C:\\Program Files (x86)\\chromedriver.exe'\n",
    "\n",
    "    links=link\n",
    "\n",
    "    s= Service(PATH)\n",
    "\n",
    "    driver=webdriver.Chrome(service=s)\n",
    "\n",
    "    driver.maximize_window()\n",
    "\n",
    "    driver.get(links)\n",
    "    time.sleep(15)\n",
    "\n",
    "\n",
    "#cancel button\n",
    "    driver.find_element(By.ID,'onesignal-slidedown-cancel-button').click()\n",
    "    time.sleep(3)\n",
    "\n",
    "#button=driver.find_element(By.CSS_SELECTOR,'.vtex-button.bw1.ba.fw5.v-mid.relative.pa0.lh-solid.br2.min-h-small.t-action--small.bg-action-primary.b--action-primary.c-on-action-primary.hover-bg-action-primary.hover-b--action-primary.hover-c-on-action-primary.pointer')\n",
    "\n",
    "    while True:\n",
    "        try:\n",
    "            button=driver.find_element(By.CSS_SELECTOR,'.vtex-button.bw1.ba.fw5.v-mid.relative.pa0.lh-solid.br2.min-h-small.t-action--small.bg-action-primary.b--action-primary.c-on-action-primary.hover-bg-action-primary.hover-b--action-primary.hover-c-on-action-primary.pointer')\n",
    "            action= ActionChains(driver)\n",
    "            action.move_to_element(button).click().perform()\n",
    "            all_prod=driver.current_url\n",
    "            time.sleep(12)\n",
    "        except NoSuchElementException:\n",
    "            break\n",
    "\n",
    "\n",
    "    return all_prod"
   ]
  },
  {
   "cell_type": "code",
   "execution_count": 144,
   "metadata": {},
   "outputs": [],
   "source": [
    "\n",
    "#gives all pages\n",
    "def all_pages(link):\n",
    "\n",
    "    PATH = 'C:\\Program Files (x86)\\chromedriver.exe'\n",
    "\n",
    "    links= link\n",
    "\n",
    "    s= Service(PATH)\n",
    "\n",
    "    driver=webdriver.Chrome(service=s)\n",
    "\n",
    "    driver.maximize_window()\n",
    "\n",
    "    driver.get(links)\n",
    "    time.sleep(15)\n",
    "\n",
    "#cancel button\n",
    "    driver.find_element(By.ID,'onesignal-slidedown-cancel-button').click()\n",
    "    time.sleep(3)\n",
    "    html=driver.page_source\n",
    "\n",
    "    soup=BeautifulSoup(html,'html.parser')\n",
    "\n",
    "    category= soup.find('h1',{'class':'vtex-search-result-3-x-galleryTitle--layout t-heading-1'}).text\n",
    "    print(category)\n",
    "\n",
    "#full element\n",
    "    elem= soup.find('div',{'class':'vtex-search-result-3-x-totalProducts--layout pv5 ph9 bn-ns bt-s b--muted-5 tc-s tl t-action--small'}).span.text\n",
    "#selecting the first value\n",
    "    number=elem.split()[0]\n",
    "\n",
    "    if int(number)%20 ==0:\n",
    "        number_page=int(int(number)/20)\n",
    "    else:\n",
    "        number_page= int(int(number)//20 +1)\n",
    "\n",
    "    print(f'number of products: {number}')\n",
    "    print(f'number of pages: {number_page}')\n",
    "\n",
    "\n",
    "    total_link= [f'{links}&page={i}' for i in range(1,number_page+1)]\n",
    "    \n",
    "    return [total_link, category]\n",
    "\n",
    "\n"
   ]
  },
  {
   "cell_type": "code",
   "execution_count": 145,
   "metadata": {},
   "outputs": [
    {
     "name": "stdout",
     "output_type": "stream",
     "text": [
      "Electro\n",
      "number of products: 554\n",
      "number of pages: 28\n",
      "Tiempo Libre\n",
      "number of products: 205\n",
      "number of pages: 11\n",
      "Almacén\n",
      "number of products: 1988\n",
      "number of pages: 100\n",
      "Bebidas\n",
      "number of products: 799\n",
      "number of pages: 40\n",
      "Carnes\n",
      "number of products: 122\n",
      "number of pages: 7\n",
      "Frutas y Verduras\n",
      "number of products: 153\n",
      "number of pages: 8\n",
      "Lácteos\n",
      "number of products: 301\n",
      "number of pages: 16\n",
      "Perfumería\n",
      "number of products: 862\n",
      "number of pages: 44\n",
      "Bebés y Niños\n",
      "number of products: 141\n",
      "number of pages: 8\n",
      "Limpieza\n",
      "number of products: 608\n",
      "number of pages: 31\n",
      "Quesos y Fiambres\n",
      "number of products: 224\n",
      "number of pages: 12\n",
      "Congelados\n",
      "number of products: 148\n",
      "number of pages: 8\n",
      "Panadería y Repostería\n",
      "number of products: 42\n",
      "number of pages: 3\n",
      "Comidas Preparadas\n",
      "number of products: 22\n",
      "number of pages: 2\n",
      "Mascotas\n",
      "number of products: 140\n",
      "number of pages: 7\n"
     ]
    }
   ],
   "source": [
    "full_links=[all_pages(i) for i in getting_urls]"
   ]
  },
  {
   "cell_type": "code",
   "execution_count": 165,
   "metadata": {},
   "outputs": [
    {
     "name": "stdout",
     "output_type": "stream",
     "text": [
      "Electro\n",
      "Tiempo Libre\n",
      "Almacén\n",
      "Bebidas\n",
      "Carnes\n",
      "Frutas y Verduras\n",
      "Lácteos\n",
      "Perfumería\n",
      "Bebés y Niños\n",
      "Limpieza\n",
      "Quesos y Fiambres\n",
      "Congelados\n",
      "Panadería y Repostería\n",
      "Comidas Preparadas\n",
      "Mascotas\n"
     ]
    }
   ],
   "source": [
    "for i in range(len(full_links)):\n",
    "    print(full_links[i][0])\n",
    "    print(full_links[i][1])"
   ]
  }
 ],
 "metadata": {
  "kernelspec": {
   "display_name": ".venv",
   "language": "python",
   "name": "python3"
  },
  "language_info": {
   "codemirror_mode": {
    "name": "ipython",
    "version": 3
   },
   "file_extension": ".py",
   "mimetype": "text/x-python",
   "name": "python",
   "nbconvert_exporter": "python",
   "pygments_lexer": "ipython3",
   "version": "3.10.4"
  },
  "orig_nbformat": 4
 },
 "nbformat": 4,
 "nbformat_minor": 2
}
